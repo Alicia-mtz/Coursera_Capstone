{
    "cells": [
        {
            "cell_type": "markdown",
            "metadata": {
                "collapsed": true
            },
            "source": "# Capstone Project - The Battle of Neighborhoods - Madrid (Spain)\n\n### Applied Data Science Capstone by IBM/Coursera"
        },
        {
            "cell_type": "markdown",
            "metadata": {},
            "source": "### Introduction - Business Problem"
        },
        {
            "cell_type": "markdown",
            "metadata": {},
            "source": "In this project we will try to find the best location for a Japanese restaurant in Madrid, Spain.\n\nMadrid is not only a touristic city but also the center of many business with their employees having lunch near their offices.  The \ncity center is the crowdest area but also has many restaurants stablish already.\n\nThe locations that we will analyze are 3 well-known areas in the city center: Serrano, La latina and Chueca.\n\nWe will be interested in the location that doesn't have any Japanese restaurant (if any) and also the one with less \nrestaurants in general. "
        },
        {
            "cell_type": "markdown",
            "metadata": {},
            "source": "### Data"
        },
        {
            "cell_type": "markdown",
            "metadata": {},
            "source": "We will use Foursquare to get the data necessary to analyze the 3 areas. \n- Are there other Japanese restaurants?\n- What kind of restaurants apart from Japanese are around the area?\n- Are there leisure activities or maybe offices to attract people in that area?\n\nTaking all this information into account, advantages of each area will be explain so the stakeholders can choose the most suitable for their restaurant."
        }
    ],
    "metadata": {
        "kernelspec": {
            "display_name": "Python 3.7",
            "language": "python",
            "name": "python3"
        },
        "language_info": {
            "codemirror_mode": {
                "name": "ipython",
                "version": 3
            },
            "file_extension": ".py",
            "mimetype": "text/x-python",
            "name": "python",
            "nbconvert_exporter": "python",
            "pygments_lexer": "ipython3",
            "version": "3.7.10"
        }
    },
    "nbformat": 4,
    "nbformat_minor": 1
}